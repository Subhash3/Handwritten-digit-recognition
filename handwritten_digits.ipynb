{
 "cells": [
  {
   "cell_type": "code",
   "execution_count": null,
   "metadata": {
    "scrolled": false
   },
   "outputs": [],
   "source": [
    "!python3 -m pip install nicenet==0.0.4"
   ]
  },
  {
   "cell_type": "code",
   "execution_count": 2,
   "metadata": {},
   "outputs": [],
   "source": [
    "from nicenet import NeuralNetwork\n",
    "from matplotlib import pyplot as plt\n",
    "import random\n",
    "import pickle\n",
    "import numpy as np"
   ]
  },
  {
   "cell_type": "code",
   "execution_count": 3,
   "metadata": {},
   "outputs": [],
   "source": [
    "def showImage(input_vector) :\n",
    "    image = np.reshape(input_vector, (28, 28))\n",
    "\n",
    "    plt.imshow(image, cmap='gray')\n",
    "    plt.show()\n",
    "\n",
    "def one_hot_encode(num, size) :\n",
    "    vector = np.array([0]*size)\n",
    "    vector[num-1] = 1\n",
    "\n",
    "    return vector.reshape(size, 1)\n",
    "\n",
    "def parse_data(data, inputs, outputs) :\n",
    "    training_inputs = data[0][0]\n",
    "    training_targets = data[0][1]\n",
    "\n",
    "    testing_inputs = data[2][0]\n",
    "    testing_targets = data[2][1]\n",
    "    training = list()\n",
    "\n",
    "    for i, t in zip(training_inputs, training_targets) :\n",
    "        new_i = i.reshape(inputs, 1)\n",
    "        new_t = one_hot_encode(t+1, outputs)\n",
    "\n",
    "        training.append([new_i, new_t])\n",
    "\n",
    "    testing = list()\n",
    "\n",
    "    for i, t in zip(testing_inputs, testing_targets) :\n",
    "        new_i = i.reshape(inputs, 1)\n",
    "        new_t = one_hot_encode(t+1, outputs)\n",
    "\n",
    "        testing.append([new_i, new_t])\n",
    "        \n",
    "    return training, testing\n",
    "\n",
    "def shuffleArray(array: list):\n",
    "    arrayCopy = array.copy()\n",
    "    random.shuffle(arrayCopy)\n",
    "\n",
    "    return arrayCopy"
   ]
  },
  {
   "cell_type": "code",
   "execution_count": 4,
   "metadata": {},
   "outputs": [],
   "source": [
    "dataset_file = \"mnist.pkl\"\n",
    "with open(dataset_file, 'rb') as fp :\n",
    "    data = pickle.load(fp, encoding=\"latin1\")\n"
   ]
  },
  {
   "cell_type": "code",
   "execution_count": 5,
   "metadata": {},
   "outputs": [],
   "source": [
    "inputs = 28*28\n",
    "outputs = 10"
   ]
  },
  {
   "cell_type": "code",
   "execution_count": 6,
   "metadata": {},
   "outputs": [
    {
     "name": "stdout",
     "output_type": "stream",
     "text": [
      "50000 10000\n"
     ]
    }
   ],
   "source": [
    "training, testing = parse_data(data, inputs, outputs)\n",
    "print(len(training),len(testing))\n",
    "\n",
    "training = shuffleArray(training)"
   ]
  },
  {
   "cell_type": "code",
   "execution_count": 7,
   "metadata": {},
   "outputs": [],
   "source": [
    "network = NeuralNetwork(inputs, outputs, cost=\"ce\")\n",
    "network.addLayer(40, activation_function=\"tanh\")\n",
    "network.addLayer(40, activation_function=\"tanh\")\n",
    "network.compile(activation_function=\"softmax\")"
   ]
  },
  {
   "cell_type": "code",
   "execution_count": 8,
   "metadata": {},
   "outputs": [
    {
     "name": "stdout",
     "output_type": "stream",
     "text": [
      "     Epoch(ce) Error(%) Accuracy\n",
      "Epoch: 1 ==> (ce) Error: 0.5542179251945478, (%) Accuracy: 83.848\n",
      "Estimated Training Time: 0.0hrs 5.0min 6.382930278778076sec\n",
      "Epoch: 2 ==> (ce) Error: 0.3087726390996863, (%) Accuracy: 91.408\n",
      "Epoch: 3 ==> (ce) Error: 0.25958931269393254, (%) Accuracy: 92.948\n",
      "Epoch: 4 ==> (ce) Error: 0.23135968539876745, (%) Accuracy: 93.824\n",
      "Epoch: 5 ==> (ce) Error: 0.2124428861925851, (%) Accuracy: 94.43\n",
      "Epoch: 6 ==> (ce) Error: 0.19852810013878927, (%) Accuracy: 94.816\n",
      "Epoch: 7 ==> (ce) Error: 0.18722659667299202, (%) Accuracy: 95.148\n",
      "Epoch: 8 ==> (ce) Error: 0.17776308278855074, (%) Accuracy: 95.504\n",
      "Epoch: 9 ==> (ce) Error: 0.17000923286452546, (%) Accuracy: 95.784\n",
      "Epoch: 10 ==> (ce) Error: 0.1635057243088691, (%) Accuracy: 96.0\n",
      "\t=-=-=-=-=-=-=-=-=-=-=-=-=-=-=-\n",
      "\tModel is trained for  10 epochs\n",
      "\tModel Accuracy:  96.0 %\n",
      "\t=-=-=-=-=-=-=-=-=-=-=-=-=-=-=-\n"
     ]
    }
   ],
   "source": [
    "network.Train(training, len(training), epochs=10)\n",
    "network.evaluate()"
   ]
  },
  {
   "cell_type": "code",
   "execution_count": 9,
   "metadata": {},
   "outputs": [
    {
     "data": {
      "image/png": "[encoded data removed]",
      "text/plain": [
       "<Figure size 432x288 with 1 Axes>"
      ]
     },
     "metadata": {
      "needs_background": "light"
     },
     "output_type": "display_data"
    },
    {
     "name": "stdout",
     "output_type": "stream",
     "text": [
      "[*] Model exported successfully to handwritten_model_96.0.json\n"
     ]
    }
   ],
   "source": [
    "network.epoch_vs_error()\n",
    "file_to_export = f\"handwritten_model_{round(network.accuracy, 2)}.json\"\n",
    "network.export_model(file_to_export)"
   ]
  },
  {
   "cell_type": "code",
   "execution_count": 10,
   "metadata": {},
   "outputs": [
    {
     "name": "stdout",
     "output_type": "stream",
     "text": [
      "Testing Accuracy: 94.79\n"
     ]
    }
   ],
   "source": [
    "correct = 0\n",
    "total = 0\n",
    "\n",
    "for sample in testing :\n",
    "    features = sample[0]\n",
    "    prediction = network.predict(features)\n",
    "    p = np.argmax(prediction)\n",
    "    a = np.argmax(sample[1])\n",
    "    \n",
    "    if p == a :\n",
    "        correct += 1\n",
    "    total += 1\n",
    "\n",
    "testing_accuracy = (correct*100)/total\n",
    "print(\"Testing Accuracy:\", testing_accuracy)"
   ]
  },
  {
   "cell_type": "code",
   "execution_count": 15,
   "metadata": {},
   "outputs": [
    {
     "data": {
      "image/png": "[encoded data removed]",
      "text/plain": [
       "<Figure size 432x288 with 1 Axes>"
      ]
     },
     "metadata": {
      "needs_background": "light"
     },
     "output_type": "display_data"
    },
    {
     "name": "stdout",
     "output_type": "stream",
     "text": [
      "It is:  1\n"
     ]
    },
    {
     "data": {
      "image/png": "[encoded data removed]",
      "text/plain": [
       "<Figure size 432x288 with 1 Axes>"
      ]
     },
     "metadata": {
      "needs_background": "light"
     },
     "output_type": "display_data"
    },
    {
     "name": "stdout",
     "output_type": "stream",
     "text": [
      "It is:  8\n"
     ]
    },
    {
     "data": {
      "image/png": "[encoded data removed]",
      "text/plain": [
       "<Figure size 432x288 with 1 Axes>"
      ]
     },
     "metadata": {
      "needs_background": "light"
     },
     "output_type": "display_data"
    },
    {
     "name": "stdout",
     "output_type": "stream",
     "text": [
      "It is:  8\n"
     ]
    },
    {
     "data": {
      "image/png": "[encoded data removed]",
      "text/plain": [
       "<Figure size 432x288 with 1 Axes>"
      ]
     },
     "metadata": {
      "needs_background": "light"
     },
     "output_type": "display_data"
    },
    {
     "name": "stdout",
     "output_type": "stream",
     "text": [
      "It is:  5\n"
     ]
    },
    {
     "data": {
      "image/png": "[encoded data removed]",
      "text/plain": [
       "<Figure size 432x288 with 1 Axes>"
      ]
     },
     "metadata": {
      "needs_background": "light"
     },
     "output_type": "display_data"
    },
    {
     "name": "stdout",
     "output_type": "stream",
     "text": [
      "It is:  1\n"
     ]
    },
    {
     "data": {
      "image/png": "[encoded data removed]",
      "text/plain": [
       "<Figure size 432x288 with 1 Axes>"
      ]
     },
     "metadata": {
      "needs_background": "light"
     },
     "output_type": "display_data"
    },
    {
     "name": "stdout",
     "output_type": "stream",
     "text": [
      "It is:  5\n"
     ]
    },
    {
     "data": {
      "image/png": "[encoded data removed]",
      "text/plain": [
       "<Figure size 432x288 with 1 Axes>"
      ]
     },
     "metadata": {
      "needs_background": "light"
     },
     "output_type": "display_data"
    },
    {
     "name": "stdout",
     "output_type": "stream",
     "text": [
      "It is:  5\n"
     ]
    },
    {
     "data": {
      "image/png": "[encoded data removed]",
      "text/plain": [
       "<Figure size 432x288 with 1 Axes>"
      ]
     },
     "metadata": {
      "needs_background": "light"
     },
     "output_type": "display_data"
    },
    {
     "name": "stdout",
     "output_type": "stream",
     "text": [
      "It is:  9\n"
     ]
    },
    {
     "data": {
      "image/png": "[encoded data removed]",
      "text/plain": [
       "<Figure size 432x288 with 1 Axes>"
      ]
     },
     "metadata": {
      "needs_background": "light"
     },
     "output_type": "display_data"
    },
    {
     "name": "stdout",
     "output_type": "stream",
     "text": [
      "It is:  5\n"
     ]
    },
    {
     "data": {
      "image/png": "[encoded data removed]",
      "text/plain": [
       "<Figure size 432x288 with 1 Axes>"
      ]
     },
     "metadata": {
      "needs_background": "light"
     },
     "output_type": "display_data"
    },
    {
     "name": "stdout",
     "output_type": "stream",
     "text": [
      "It is:  1\n"
     ]
    }
   ],
   "source": [
    "testing_size = len(testing)\n",
    "for i in range(10) :\n",
    "    j = random.randint(0, testing_size-1)\n",
    "    sample = testing[j]\n",
    "    features = sample[0]\n",
    "    prediction = network.predict(features)\n",
    "    p = np.argmax(prediction)\n",
    "    a = np.argmax(sample[1])\n",
    "    \n",
    "    showImage(features)\n",
    "    print(f\"It is: \", p)\n",
    "    "
   ]
  }
 ],
 "metadata": {
  "kernelspec": {
   "display_name": "Python 3.6.9 64-bit",
   "language": "python",
   "name": "python36964bita3994e3963db43959c22dccb417b32b4"
  },
  "language_info": {
   "codemirror_mode": {
    "name": "ipython",
    "version": 3
   },
   "file_extension": ".py",
   "mimetype": "text/x-python",
   "name": "python",
   "nbconvert_exporter": "python",
   "pygments_lexer": "ipython3",
   "version": "3.6.9"
  }
 },
 "nbformat": 4,
 "nbformat_minor": 4
}
