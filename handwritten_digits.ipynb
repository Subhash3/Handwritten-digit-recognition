{
 "cells": [
  {
   "cell_type": "code",
   "execution_count": 15,
   "metadata": {},
   "outputs": [],
   "source": [
    "from nicenet import NeuralNetwork\n",
    "from matplotlib import pyplot as plt\n",
    "import random\n",
    "import pickle\n",
    "import numpy as np"
   ]
  },
  {
   "cell_type": "code",
   "execution_count": 33,
   "metadata": {},
   "outputs": [],
   "source": [
    "def showImage(input_vector) :\n",
    "    image = np.reshape(input_vector, (28, 28))\n",
    "\n",
    "    plt.imshow(image, cmap='gray')\n",
    "    plt.show()\n",
    "\n",
    "def one_hot_encode(num, size) :\n",
    "    vector = np.array([0]*size)\n",
    "    vector[num-1] = 1\n",
    "\n",
    "    return vector.reshape(size, 1)\n",
    "\n",
    "def parse_data(data, inputs, outputs) :\n",
    "    training_inputs = data[0][0]\n",
    "    training_targets = data[0][1]\n",
    "\n",
    "    testing_inputs = data[2][0]\n",
    "    testing_targets = data[2][1]\n",
    "    training = list()\n",
    "\n",
    "    for i, t in zip(training_inputs, training_targets) :\n",
    "        new_i = i.reshape(inputs, 1)\n",
    "        new_t = one_hot_encode(t, outputs)\n",
    "\n",
    "        training.append([new_i, new_t])\n",
    "\n",
    "    testing = list()\n",
    "\n",
    "    for i, t in zip(testing_inputs, testing_targets) :\n",
    "        new_i = i.reshape(inputs, 1)\n",
    "        new_t = one_hot_encode(t, outputs)\n",
    "\n",
    "        testing.append([new_i, new_t])\n",
    "        \n",
    "    return training, testing\n",
    "\n",
    "def shuffleArray(array: list):\n",
    "    arrayCopy = array.copy()\n",
    "    random.shuffle(arrayCopy)\n",
    "\n",
    "    return arrayCopy"
   ]
  },
  {
   "cell_type": "code",
   "execution_count": 9,
   "metadata": {},
   "outputs": [],
   "source": [
    "dataset_file = \"mnist.pkl\"\n",
    "with open(dataset_file, 'rb') as fp :\n",
    "    data = pickle.load(fp, encoding=\"latin1\")\n"
   ]
  },
  {
   "cell_type": "code",
   "execution_count": 24,
   "metadata": {},
   "outputs": [],
   "source": [
    "inputs = 28*28\n",
    "outputs = 10"
   ]
  },
  {
   "cell_type": "code",
   "execution_count": 25,
   "metadata": {},
   "outputs": [],
   "source": [
    "training = list()\n",
    "\n",
    "for i, t in zip(training_inputs, training_targets) :\n",
    "    new_i = i.reshape(inputs, 1)\n",
    "    new_t = one_hot_encode(t, outputs)\n",
    "    \n",
    "    training.append([new_i, new_t])\n",
    "\n",
    "testing = list()\n",
    "\n",
    "for i, t in zip(testing_inputs, testing_targets) :\n",
    "    new_i = i.reshape(inputs, 1)\n",
    "    new_t = one_hot_encode(t, outputs)\n",
    "    \n",
    "    testing.append([new_i, new_t])\n",
    "print(len(training), len(testing))\n",
    "\n",
    "training = shuffleArray(training)"
   ]
  },
  {
   "cell_type": "code",
   "execution_count": 26,
   "metadata": {},
   "outputs": [],
   "source": [
    "network = NeuralNetwork(inputs, outputs, cost=\"ce\")\n",
    "network.addLayer(80)\n",
    "network.compile(activation_function=\"softmax\")"
   ]
  },
  {
   "cell_type": "code",
   "execution_count": 27,
   "metadata": {},
   "outputs": [
    {
     "name": "stdout",
     "output_type": "stream",
     "text": [
      "     Epoch(ce) Error(%) Accuracy\n",
      "Epoch: 1 ==> (ce) Error: 0.7289281734619247, (%) Accuracy: 80.824\n",
      "Estimated Training Time: 0.0hrs 4.0min 28.462493419647217sec\n",
      "Epoch: 2 ==> (ce) Error: 0.4538522332332758, (%) Accuracy: 88.99\n",
      "Epoch: 3 ==> (ce) Error: 0.4009271483354651, (%) Accuracy: 90.16\n",
      "Epoch: 4 ==> (ce) Error: 0.3672045612275304, (%) Accuracy: 91.102\n",
      "Epoch: 5 ==> (ce) Error: 0.3409817693475071, (%) Accuracy: 91.824\n",
      "Epoch: 6 ==> (ce) Error: 0.3190503653569902, (%) Accuracy: 92.242\n",
      "Epoch: 7 ==> (ce) Error: 0.30264741699274056, (%) Accuracy: 92.224\n",
      "Epoch: 8 ==> (ce) Error: 0.2975148636070217, (%) Accuracy: 91.942\n",
      "Epoch: 9 ==> (ce) Error: 0.2778237996291782, (%) Accuracy: 92.574\n",
      "Epoch: 10 ==> (ce) Error: 0.2592606622535183, (%) Accuracy: 93.148\n",
      "\t=-=-=-=-=-=-=-=-=-=-=-=-=-=-=-\n",
      "\tModel is trained for  10 epochs\n",
      "\tModel Accuracy:  93.148 %\n",
      "\t=-=-=-=-=-=-=-=-=-=-=-=-=-=-=-\n"
     ]
    }
   ],
   "source": [
    "network.Train(training, len(training), epochs=10)\n",
    "network.evaluate()"
   ]
  },
  {
   "cell_type": "code",
   "execution_count": 28,
   "metadata": {},
   "outputs": [
    {
     "name": "stdout",
     "output_type": "stream",
     "text": [
      "[*] Model exported successfully to handwritten_model.json\n"
     ]
    }
   ],
   "source": [
    "file_to_export = \"handwritten_model.json\"\n",
    "network.export_model(file_to_export)"
   ]
  },
  {
   "cell_type": "code",
   "execution_count": 31,
   "metadata": {},
   "outputs": [
    {
     "name": "stdout",
     "output_type": "stream",
     "text": [
      "Testing Accuracy: 93.37\n"
     ]
    }
   ],
   "source": [
    "correct = 0\n",
    "total = 0\n",
    "\n",
    "for sample in testing :\n",
    "    features = sample[0]\n",
    "    prediction = network.predict(features)\n",
    "    p = np.argmax(prediction)\n",
    "    a = np.argmax(sample[1])\n",
    "    \n",
    "    if p == a :\n",
    "        correct += 1\n",
    "    total += 1\n",
    "\n",
    "testing_accuracy = (correct*100)/total\n",
    "print(\"Testing Accuracy:\", testing_accuracy)"
   ]
  }
 ],
 "metadata": {
  "kernelspec": {
   "display_name": "Python 3.6.9 64-bit",
   "language": "python",
   "name": "python36964bita3994e3963db43959c22dccb417b32b4"
  },
  "language_info": {
   "codemirror_mode": {
    "name": "ipython",
    "version": 3
   },
   "file_extension": ".py",
   "mimetype": "text/x-python",
   "name": "python",
   "nbconvert_exporter": "python",
   "pygments_lexer": "ipython3",
   "version": "3.6.9"
  }
 },
 "nbformat": 4,
 "nbformat_minor": 4
}
